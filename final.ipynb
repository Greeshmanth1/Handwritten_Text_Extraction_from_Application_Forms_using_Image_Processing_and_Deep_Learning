{
 "cells": [
  {
   "cell_type": "markdown",
   "id": "55a7ccba",
   "metadata": {},
   "source": [
    "# Import Required Packages"
   ]
  },
  {
   "cell_type": "code",
   "execution_count": 1,
   "id": "e9dde33b",
   "metadata": {},
   "outputs": [],
   "source": [
    "from skimage.filters import threshold_local\n",
    "import numpy as np\n",
    "import argparse\n",
    "import cv2\n",
    "import imutils\n",
    "import matplotlib.pyplot as plt\n",
    "from openpyxl import *\n",
    "from tkinter import *\n",
    "import xlsxwriter\n",
    "import tensorflow as tf\n",
    "from keras.datasets import mnist\n",
    "import matplotlib.pyplot as plt\n",
    "from tensorflow.keras.models import Sequential\n",
    "from tensorflow.keras.layers import Dense, Dropout, Activation, Flatten, Conv2D, MaxPooling2D\n",
    "\n",
    "from tensorflow.keras.optimizers import SGD, Adam\n",
    "from keras.optimizers import gradient_descent_v2\n",
    "from keras.callbacks import ReduceLROnPlateau, EarlyStopping\n",
    "from tensorflow.keras.utils import to_categorical\n",
    "import pandas as pd\n",
    "from sklearn.model_selection import train_test_split\n",
    "from keras.utils import np_utils\n",
    "from tqdm import tqdm_notebook\n",
    "from sklearn.utils import shuffle\n",
    "from tkinter import *\n",
    "from tkinter.ttk import *\n",
    "from tkinter.filedialog import askopenfile \n",
    "import time\n",
    "import openpyxl"
   ]
  },
  {
   "cell_type": "markdown",
   "id": "08814f28",
   "metadata": {},
   "source": [
    "Loading Numbers Data set...."
   ]
  },
  {
   "cell_type": "code",
   "execution_count": 2,
   "id": "3bd0880b",
   "metadata": {},
   "outputs": [],
   "source": [
    "mnist = tf.keras.datasets.mnist\n",
    "(x_train, y_train),(x_test, y_test) = mnist.load_data()\n",
    "x_train = tf.keras.utils.normalize(x_train,axis=1)\n",
    "x_test = tf.keras.utils.normalize(x_test,axis=1)\n",
    "IMG_SIZE=28\n",
    "x_trainr=np.array(x_train).reshape(-1,IMG_SIZE,IMG_SIZE,1)\n",
    "x_testr=np.array(x_test).reshape(-1,IMG_SIZE,IMG_SIZE,1)"
   ]
  },
  {
   "cell_type": "markdown",
   "id": "d8a3e134",
   "metadata": {},
   "source": [
    "Training Numbers Dataset...."
   ]
  },
  {
   "cell_type": "code",
   "execution_count": 3,
   "id": "4df7d2b9",
   "metadata": {},
   "outputs": [],
   "source": [
    "modelnum = Sequential()\n",
    "\n",
    "modelnum.add(Conv2D(64,(3,3), input_shape = x_trainr.shape[1:]))\n",
    "modelnum.add(Activation(\"relu\"))\n",
    "modelnum.add(MaxPooling2D(pool_size=(2,2)))\n",
    "\n",
    "modelnum.add(Conv2D(64,(3,3)))\n",
    "modelnum.add(Activation(\"relu\"))\n",
    "modelnum.add(MaxPooling2D(pool_size=(2,2)))\n",
    "          \n",
    "modelnum.add(Conv2D(64,(3,3)))\n",
    "modelnum.add(Activation(\"relu\"))\n",
    "modelnum.add(MaxPooling2D(pool_size=(2,2)))\n",
    "          \n",
    "modelnum.add(Flatten())\n",
    "modelnum.add(Dense(64))\n",
    "modelnum.add(Activation(\"relu\"))\n",
    "          \n",
    "modelnum.add(Dense(32))\n",
    "modelnum.add(Activation(\"relu\"))\n",
    "          \n",
    "modelnum.add(Dense(10))\n",
    "modelnum.add(Activation(\"softmax\"))"
   ]
  },
  {
   "cell_type": "code",
   "execution_count": 4,
   "id": "d15dcc26",
   "metadata": {},
   "outputs": [],
   "source": [
    "modelnum.compile(loss=\"sparse_categorical_crossentropy\",optimizer=\"adam\",metrics=['accuracy'])"
   ]
  },
  {
   "cell_type": "code",
   "execution_count": 5,
   "id": "92635f4e",
   "metadata": {},
   "outputs": [
    {
     "name": "stdout",
     "output_type": "stream",
     "text": [
      "Epoch 1/3\n",
      "1313/1313 [==============================] - 56s 42ms/step - loss: 0.3175 - accuracy: 0.9007 - val_loss: 0.1142 - val_accuracy: 0.9638\n",
      "Epoch 2/3\n",
      "1313/1313 [==============================] - 58s 44ms/step - loss: 0.0952 - accuracy: 0.9714 - val_loss: 0.0898 - val_accuracy: 0.9726\n",
      "Epoch 3/3\n",
      "1313/1313 [==============================] - 53s 40ms/step - loss: 0.0677 - accuracy: 0.9796 - val_loss: 0.0660 - val_accuracy: 0.9801\n"
     ]
    },
    {
     "data": {
      "text/plain": [
       "<keras.callbacks.History at 0x2e40a067af0>"
      ]
     },
     "execution_count": 5,
     "metadata": {},
     "output_type": "execute_result"
    }
   ],
   "source": [
    "modelnum.fit(x_trainr, y_train, batch_size=None,epochs=3, verbose=1, validation_split=0.3)"
   ]
  },
  {
   "cell_type": "code",
   "execution_count": 6,
   "id": "18599c9a",
   "metadata": {},
   "outputs": [
    {
     "name": "stdout",
     "output_type": "stream",
     "text": [
      "313/313 [==============================] - 3s 10ms/step - loss: 0.0582 - accuracy: 0.9832\n"
     ]
    }
   ],
   "source": [
    "test_loss, test_acc=modelnum.evaluate(x_testr, y_test)"
   ]
  },
  {
   "cell_type": "markdown",
   "id": "f3278b28",
   "metadata": {},
   "source": [
    "Loading Characters Dataset...."
   ]
  },
  {
   "cell_type": "code",
   "execution_count": 7,
   "id": "f3ddc237",
   "metadata": {},
   "outputs": [],
   "source": [
    "data = pd.read_csv(r\"C:\\Users\\GREESHMANTH\\Desktop\\final epics\\Data\\A_Z Handwritten Data.csv\").astype('float32')"
   ]
  },
  {
   "cell_type": "code",
   "execution_count": 8,
   "id": "2eb6ef66",
   "metadata": {},
   "outputs": [],
   "source": [
    "# Split data the X - Our data , and y - the predict label\n",
    "X = data.drop('0',axis = 1)\n",
    "y = data['0']\n",
    "\n",
    "\n",
    "# Reshaping the data in csv file so that it can be displayed as an image...\n",
    "\n",
    "train_x, test_x, train_y, test_y = train_test_split(X, y, test_size = 0.2)\n",
    "train_x = np.reshape(train_x.values, (train_x.shape[0], 28,28))\n",
    "test_x = np.reshape(test_x.values, (test_x.shape[0], 28,28))\n",
    "\n",
    "# Dictionary for getting characters from index values...\n",
    "word_dict = {0:'A',1:'B',2:'C',3:'D',4:'E',5:'F',6:'G',7:'H',8:'I',9:'J',10:'K',11:'L',12:'M',13:'N',14:'O',15:'P',16:'Q',17:'R',18:'S',19:'T',20:'U',21:'V',22:'W',23:'X', 24:'Y',25:'Z'}\n",
    "train_yint = np.int0(y)\n",
    "count = np.zeros(26, dtype='int')\n",
    "for i in train_yint:\n",
    "    count[i] +=1\n",
    "\n",
    "alphabets = []\n",
    "for i in word_dict.values():\n",
    "    alphabets.append(i)\n",
    "#Reshaping the training & test dataset so that it can be put in the model...\n",
    "\n",
    "train_X = train_x.reshape(train_x.shape[0],train_x.shape[1],train_x.shape[2],1)\n",
    "\n",
    "test_X = test_x.reshape(test_x.shape[0], test_x.shape[1], test_x.shape[2],1)\n",
    "\n",
    "# Converting the labels to categorical values...\n",
    "\n",
    "train_yOHE = to_categorical(train_y, num_classes = 26, dtype='int')\n",
    "\n",
    "test_yOHE = to_categorical(test_y, num_classes = 26, dtype='int')\n",
    "\n"
   ]
  },
  {
   "cell_type": "markdown",
   "id": "0aca48e3",
   "metadata": {},
   "source": [
    "Training Characters Dataset....."
   ]
  },
  {
   "cell_type": "code",
   "execution_count": 9,
   "id": "2f516d8b",
   "metadata": {},
   "outputs": [],
   "source": [
    "modelcharac = Sequential()\n",
    "\n",
    "modelcharac.add(Conv2D(filters=32, kernel_size=(3, 3), activation='relu', input_shape=(28,28,1)))\n",
    "modelcharac.add(MaxPooling2D(pool_size=(2, 2), strides=2))\n",
    "\n",
    "modelcharac.add(Conv2D(filters=64, kernel_size=(3, 3), activation='relu', padding = 'same'))\n",
    "modelcharac.add(MaxPooling2D(pool_size=(2, 2), strides=2))\n",
    "\n",
    "modelcharac.add(Conv2D(filters=128, kernel_size=(3, 3), activation='relu', padding = 'valid'))\n",
    "modelcharac.add(MaxPooling2D(pool_size=(2, 2), strides=2))\n",
    "\n",
    "modelcharac.add(Flatten())\n",
    "\n",
    "modelcharac.add(Dense(64,activation =\"relu\"))\n",
    "modelcharac.add(Dense(128,activation =\"relu\"))\n",
    "\n",
    "modelcharac.add(Dense(26,activation =\"softmax\"))\n"
   ]
  },
  {
   "cell_type": "code",
   "execution_count": 10,
   "id": "1de640cf",
   "metadata": {},
   "outputs": [],
   "source": [
    "modelcharac.compile(optimizer = Adam(learning_rate=0.001), loss='categorical_crossentropy', metrics=['accuracy'])"
   ]
  },
  {
   "cell_type": "code",
   "execution_count": 11,
   "id": "b6348986",
   "metadata": {},
   "outputs": [
    {
     "name": "stdout",
     "output_type": "stream",
     "text": [
      "9312/9312 [==============================] - 295s 32ms/step - loss: 0.1634 - accuracy: 0.9559 - val_loss: 0.0678 - val_accuracy: 0.9809 - lr: 0.0010\n"
     ]
    }
   ],
   "source": [
    "reduce_lr = ReduceLROnPlateau(monitor='val_loss', factor=0.2, patience=1, min_lr=0.0001)\n",
    "early_stop = EarlyStopping(monitor='val_loss', min_delta=0, patience=2, verbose=0, mode='auto')\n",
    "history = modelcharac.fit(train_X, train_yOHE, epochs=1, callbacks=[reduce_lr, early_stop],  validation_data = (test_X,test_yOHE))"
   ]
  },
  {
   "cell_type": "code",
   "execution_count": 12,
   "id": "de4e13b2",
   "metadata": {},
   "outputs": [],
   "source": [
    "kernel = np.array([[0, -1, 0],\n",
    "                   [-1, 5,-1],\n",
    "                   [0, -1, 0]])"
   ]
  },
  {
   "cell_type": "markdown",
   "id": "90a9616f",
   "metadata": {},
   "source": [
    "Number Prediction"
   ]
  },
  {
   "cell_type": "code",
   "execution_count": 41,
   "id": "77e7148a",
   "metadata": {},
   "outputs": [],
   "source": [
    "def pred(model,data): \n",
    "    global kernel\n",
    "    s=\"\"\n",
    "    for i in data:\n",
    "        if np.sum(i == 0)/np.sum(i== 255)<0.002:\n",
    "            s+=\" \"\n",
    "            if len(s)>1 and s[-1]==s[-2]:\n",
    "                s=s[:-1]\n",
    "        else:\n",
    "            ss=cv2.resize(i,(28,28),interpolation=cv2.INTER_AREA)\n",
    "            ss = cv2.filter2D(src=ss, ddepth=-1, kernel=kernel)\n",
    "            ss = cv2.threshold(ss, 155, 355, cv2.THRESH_BINARY_INV)[1]\n",
    "            ss=tf.keras.utils.normalize(ss,axis=1)\n",
    "            ss=np.array(ss).reshape(-1,IMG_SIZE,IMG_SIZE,1)\n",
    "            pred=model.predict(ss)\n",
    "            #print(np.argmax(pred))\n",
    "            s+=str(np.argmax(pred))\n",
    "    return s"
   ]
  },
  {
   "cell_type": "markdown",
   "id": "5ef17413",
   "metadata": {},
   "source": [
    "Character Prediction"
   ]
  },
  {
   "cell_type": "code",
   "execution_count": 2,
   "id": "26baeadf",
   "metadata": {},
   "outputs": [],
   "source": [
    "def charpred(modelcharac,data):\n",
    "    global kernel\n",
    "    s=\"\"\n",
    "    for i in data:\n",
    "        if np.sum(i == 0)/np.sum(i== 255)<0.002:\n",
    "            s+=\" \"\n",
    "            if len(s)>1 and s[-1]==s[-2]:\n",
    "                s=s[:-1]\n",
    "        else:\n",
    "            img_copy = i.copy()\n",
    "            img = cv2.cvtColor(i, cv2.COLOR_BGR2RGB)\n",
    "            img = cv2.resize(i, (400,440))\n",
    "            img_copy = cv2.filter2D(src=i, ddepth=-1, kernel=kernel)\n",
    "            #img_gray = cv2.cvtColor(img_copy, cv2.COLOR_BGR2GRAY)\n",
    "            _, img_thresh = cv2.threshold(img_copy, 100, 255, cv2.THRESH_BINARY_INV)\n",
    "            img_final = cv2.resize(img_thresh, (28,28),interpolation=cv2.INTER_AREA)\n",
    "            img_final =np.reshape(img_final, (1,28,28,1))\n",
    "            img_pred = word_dict[np.argmax(modelcharac.predict(img_final))]\n",
    "            s+=str(img_pred)\n",
    "    return s"
   ]
  },
  {
   "cell_type": "code",
   "execution_count": 3,
   "id": "1cfeb432",
   "metadata": {},
   "outputs": [],
   "source": [
    "def order_points(pts):\n",
    "    # initialzie a list of coordinates that will be ordered\n",
    "    # such that the first entry in the list is the top-left,\n",
    "    # the second entry is the top-right, the third is the\n",
    "    # bottom-right, and the fourth is the bottom-left\n",
    "    rect = np.zeros((4, 2), dtype = \"float32\")\n",
    "\n",
    "    # the top-left point will have the smallest sum, whereas\n",
    "    # the bottom-right point will have the largest sum\n",
    "    s = pts.sum(axis = 1)\n",
    "    rect[0] = pts[np.argmin(s)]\n",
    "    rect[2] = pts[np.argmax(s)]\n",
    "\n",
    "    # now, compute the difference between the points, the\n",
    "    # top-right point will have the smallest difference,\n",
    "    # whereas the bottom-left will have the largest difference\n",
    "    diff = np.diff(pts, axis = 1)\n",
    "    rect[1] = pts[np.argmin(diff)]\n",
    "    rect[3] = pts[np.argmax(diff)]\n",
    "\n",
    "    # return the ordered coordinates\n",
    "    return rect"
   ]
  },
  {
   "cell_type": "code",
   "execution_count": 42,
   "id": "4d809a73",
   "metadata": {},
   "outputs": [],
   "source": [
    "def four_point_transform(image, pts):\n",
    "    # obtain a consistent order of the points and unpack them\n",
    "    # individually\n",
    "    result=cv2.imwrite(r'C:\\Users\\GREESHMANTH\\Desktop\\imagee1.jpg', image)\n",
    "    rect = order_points(pts)\n",
    "    (tl, tr, br, bl) = rect\n",
    "\n",
    "    # compute the width of the new image, which will be the\n",
    "    # maximum distance between bottom-right and bottom-left\n",
    "    # x-coordiates or the top-right and top-left x-coordinates\n",
    "    widthA = np.sqrt(((br[0] - bl[0]) ** 2) + ((br[1] - bl[1]) ** 2))\n",
    "    widthB = np.sqrt(((tr[0] - tl[0]) ** 2) + ((tr[1] - tl[1]) ** 2))\n",
    "    maxWidth = max(int(widthA),   int(widthB))\n",
    "\n",
    "    # compute the height of the new image, which will be the\n",
    "    # maximum distance between the top-right and bottom-right\n",
    "    # y-coordinates or the top-left and bottom-left y-coordinates\n",
    "    heightA = np.sqrt(((tr[0] - br[0]) ** 2) + ((tr[1] - br[1]) ** 2))\n",
    "    heightB = np.sqrt(((tl[0] - bl[0]) ** 2) + ((tl[1] - bl[1]) ** 2))\n",
    "    maxHeight = max(int(heightA), int(heightB))\n",
    "\n",
    "    # now that we have the dimensions of the new image, construct\n",
    "    # the set of destination points to obtain a \"birds eye view\",\n",
    "    # (i.e. top-down view) of the image, again specifying points\n",
    "    # in the top-left, top-right, bottom-right, and bottom-left\n",
    "    # order\n",
    "    dst = np.array([\n",
    "        [0, 0],\n",
    "        [maxWidth - 1, 0],\n",
    "        [maxWidth - 1, maxHeight - 1],\n",
    "        [0, maxHeight - 1]], dtype = \"float32\")\n",
    "\n",
    "    # compute the perspective transform matrix and then apply it\n",
    "    M = cv2.getPerspectiveTransform(rect, dst)\n",
    "    result=cv2.imwrite(r'C:\\Users\\GREESHMANTH\\Desktop\\imagee2.jpg', M)\n",
    "    warped = cv2.warpPerspective(image, M, (maxWidth, maxHeight))\n",
    "    result=cv2.imwrite(r'C:\\Users\\GREESHMANTH\\Desktop\\imagee3.jpg', warped)\n",
    "    return warped"
   ]
  },
  {
   "cell_type": "code",
   "execution_count": 5,
   "id": "a1b2ea1e",
   "metadata": {},
   "outputs": [],
   "source": [
    "def excel(d):\n",
    "    wb = openpyxl.load_workbook(r\"C:\\Users\\GREESHMANTH\\Desktop\\final epics\\book1.xlsx\")\n",
    "    sh1 = wb['Sheet1']\n",
    "    sh1.cell(row = 1,column = 1,value = 'DAY')\n",
    "    sh1.cell(row = 1,column = 2,value = 'MONTH')\n",
    "    sh1.cell(row = 1,column = 3,value = 'YEAR')\n",
    "    sh1.cell(row = 1,column = 4,value = 'AADHAR')\n",
    "    sh1.cell(row = 1,column = 5,value = 'NAME')\n",
    "    sh1.cell(row = 1,column = 6,value = 'C/O')\n",
    "    sh1.cell(row = 1,column = 7,value = 'HOUSE NUMBER')\n",
    "    sh1.cell(row = 1,column = 8,value = 'STREET')\n",
    "    sh1.cell(row = 1,column = 9,value = 'LANDMARK')\n",
    "    sh1.cell(row = 1,column = 10,value = 'LOCALITY')\n",
    "    sh1.cell(row = 1,column = 11,value = 'VILLAGE')\n",
    "    sh1.cell(row = 1,column = 12,value = 'POSTOFFICE')\n",
    "    sh1.cell(row = 1,column = 13,value = 'DISTRICT')\n",
    "    sh1.cell(row = 1,column = 14,value = 'STATE')\n",
    "    sh1.cell(row = 1,column = 15,value = 'PINCODE')\n",
    "    sh1.cell(row = 1,column = 16,value = 'DOB')\n",
    "    sh1.cell(row = 1,column = 17,value = 'CONTACT')\n",
    "    sh1.append((d[\"date\"], d[\"month\"],d[\"year\"],d[\"aadhar\"],d[\"name\"],d[\"co\"],d[\"doorno\"],d[\"street\"],d[\"landmark\"],d[\"area\"],d[\"city\"],d[\"postoffice\"],d[\"district\"],d[\"state\"],d[\"pincode\"], d[\"dobdate\"]+d[\"dobmonth\"]+d[\"dobyear\"], d[\"contact\"]))\n",
    "    wb.save(r\"C:\\Users\\GREESHMANTH\\Desktop\\final epics\\book1.xlsx\")\n",
    "    return "
   ]
  },
  {
   "cell_type": "code",
   "execution_count": 6,
   "id": "835b4b7d",
   "metadata": {},
   "outputs": [],
   "source": [
    "def finalstep():\n",
    "    lst.sort()\n",
    "    lst.sort(key = lambda x: x[1])\n",
    "    global d\n",
    "    d={}\n",
    "    for i in range(len(lst)):\n",
    "        x,y,w,h=lst[i]\n",
    "        \n",
    "        if i==0:\n",
    "            sap=res_final[y:y+h,x:x+w].copy()\n",
    "            date=[]\n",
    "            h=((w+1)//2)\n",
    "            for j in range(2):\n",
    "                date.append(sap[5:-8,3+j*h:(j+1)*h-5])\n",
    "\n",
    "            d[\"date\"]=pred(modelnum,date)\n",
    "            \n",
    "        elif i==1:\n",
    "            sap=res_final[y:y+h,x:x+w].copy()\n",
    "            month=[]\n",
    "            h=(w+1)//2\n",
    "            for j in range(2):\n",
    "                month.append(sap[5:-8,3+j*h:(j+1)*h-5])\n",
    "            d[\"month\"]=pred(modelnum,month)\n",
    "            \n",
    "        elif i==2:\n",
    "            sap=res_final[y:y+h,x:x+w].copy()\n",
    "            year=[]\n",
    "            h=(w+1)//4\n",
    "            for j in range(4):\n",
    "                year.append(sap[5:-8,3+j*h:(j+1)*h-5])\n",
    "            d[\"year\"]=pred(modelnum,year)\n",
    "            \n",
    "        elif i==3:\n",
    "            sap=res_final[y:y+h,x:x+w].copy()\n",
    "            aadhar=[]\n",
    "            h=(w+1)//12\n",
    "            for j in range(12):\n",
    "                aadhar.append(sap[5:-8,3+j*h:(j+1)*h-5])\n",
    "            d[\"aadhar\"]=pred(modelnum,aadhar)\n",
    "            \n",
    "        elif i==4:\n",
    "            sap=res_final[y:y+h,x:x+w].copy()\n",
    "            name=[]\n",
    "            h=(w+1)//20\n",
    "            for j in range(20):\n",
    "                name.append(sap[5:-8,3+j*h:(j+1)*h-5])\n",
    "            d[\"name\"]=charpred(modelcharac,name)\n",
    "            \n",
    "        elif i==5:\n",
    "            sap=res_final[y:y+h,x:x+w].copy()\n",
    "            name=[]\n",
    "            h=(w+1)//20\n",
    "            for j in range(20):\n",
    "                name.append(sap[5:-8,3+j*h:(j+1)*h-5])\n",
    "            d[\"name\"]+=charpred(modelcharac,name)\n",
    "            \n",
    "        elif i==6:\n",
    "            sap=res_final[y:y+h,x:x+w].copy()\n",
    "            co=[]\n",
    "            h=(w+1)//20\n",
    "            for j in range(20):\n",
    "                co.append(sap[5:-8,3+j*h:(j+1)*h-5])\n",
    "            d[\"co\"]=charpred(modelcharac,co)\n",
    "            \n",
    "        elif i==7:\n",
    "            sap=res_final[y:y+h,x:x+w].copy()\n",
    "            doorno=[]\n",
    "            h=(w+1)//20\n",
    "            for j in range(20):\n",
    "                doorno.append(sap[5:-8,3+j*h:(j+1)*h-5])\n",
    "            d[\"doorno\"]=pred(modelnum,doorno)\n",
    "            \n",
    "        elif i==8:\n",
    "            sap=res_final[y:y+h,x:x+w].copy()\n",
    "            street=[]\n",
    "            h=(w+1)//20\n",
    "            for j in range(20):\n",
    "                street.append(sap[5:-8,3+j*h:(j+1)*h-5])\n",
    "            d[\"street\"]=charpred(modelcharac,street)\n",
    "            \n",
    "        elif i==9:\n",
    "            sap=res_final[y:y+h,x:x+w].copy()\n",
    "            landmark=[]\n",
    "            h=(w+1)//20\n",
    "            for j in range(20):\n",
    "                landmark.append(sap[5:-8,3+j*h:(j+1)*h-5])\n",
    "            d[\"landmark\"]=charpred(modelcharac,landmark)\n",
    "            \n",
    "        elif i==10:\n",
    "            sap=res_final[y:y+h,x:x+w].copy()\n",
    "            area=[]\n",
    "            h=(w+1)//20\n",
    "            for j in range(20):\n",
    "                area.append(sap[5:-8,3+j*h:(j+1)*h-5])\n",
    "            d[\"area\"]=charpred(modelcharac,area)\n",
    "            \n",
    "        elif i==11:\n",
    "            sap=res_final[y:y+h,x:x+w].copy()\n",
    "            city=[]\n",
    "            h=(w+1)//20\n",
    "            for j in range(20):\n",
    "                city.append(sap[5:-8,3+j*h:(j+1)*h-5])\n",
    "            d[\"city\"]=charpred(modelcharac,city)\n",
    "            \n",
    "        elif i==12:\n",
    "            sap=res_final[y:y+h,x:x+w].copy()\n",
    "            postoffice=[]\n",
    "            h=(w+1)//20\n",
    "            for j in range(20):\n",
    "                postoffice.append(sap[5:-8,3+j*h:(j+1)*h-5])\n",
    "            d[\"postoffice\"]=charpred(modelcharac,postoffice)\n",
    "            \n",
    "        elif i==13:\n",
    "            sap=res_final[y:y+h,x:x+w].copy()\n",
    "            district=[]\n",
    "            h=(w+1)//15\n",
    "            for j in range(15):\n",
    "                district.append(sap[5:-8,3+j*h:(j+1)*h-5])\n",
    "            d[\"district\"]=charpred(modelcharac,district)\n",
    "            \n",
    "        elif i==14:\n",
    "            sap=res_final[y:y+h,x:x+w].copy()\n",
    "            state=[]\n",
    "            h=(w+1)//15\n",
    "            for j in range(15):\n",
    "                state.append(sap[5:-8,3+j*h:(j+1)*h-5])\n",
    "            d[\"state\"]=charpred(modelcharac,state)\n",
    "            \n",
    "        elif i==15:\n",
    "            sap=res_final[y:y+h,x:x+w].copy()\n",
    "            state=[]\n",
    "            h=(w+1)//8\n",
    "            for j in range(8):\n",
    "                state.append(sap[5:-8,3+j*h:(j+1)*h-5])\n",
    "            d[\"state\"]+=charpred(modelcharac,state)\n",
    "            \n",
    "        elif i==16:\n",
    "            sap=res_final[y:y+h,x:x+w].copy()\n",
    "            pincode=[]\n",
    "            h=(w+1)//6\n",
    "            for j in range(6):\n",
    "                pincode.append(sap[5:-8,3+j*h:(j+1)*h-5])\n",
    "            d[\"pincode\"]=pred(modelnum,pincode)\n",
    "            \n",
    "        elif i==17:\n",
    "            sap=res_final[y:y+h,x:x+w].copy()\n",
    "            dobdate=[]\n",
    "            h=(w+1)//2\n",
    "            for j in range(2):\n",
    "                dobdate.append(sap[5:-8,3+j*h:(j+1)*h-5])\n",
    "            d[\"dobdate\"]=pred(modelnum,dobdate)\n",
    "            \n",
    "        elif i==18:\n",
    "            sap=res_final[y:y+h,x:x+w].copy()\n",
    "            dobmonth=[]\n",
    "            h=(w+1)//2\n",
    "            for j in range(2):\n",
    "                dobmonth.append(sap[5:-8,3+j*h:(j+1)*h-5])\n",
    "            d[\"dobmonth\"]=pred(modelnum,dobmonth)\n",
    "            \n",
    "        elif i==19:\n",
    "            sap=res_final[y:y+h,x:x+w].copy()\n",
    "            dobyear=[]\n",
    "            h=(w+1)//4\n",
    "            for j in range(4):\n",
    "                dobyear.append(sap[5:-8,3+j*h:(j+1)*h-5])\n",
    "            d[\"dobyear\"]=pred(modelnum,dobyear)\n",
    "            \n",
    "        elif i==len(lst)-1:\n",
    "            sap=res_final[y:y+h,x:x+w].copy()\n",
    "            contact=[]\n",
    "            h=(w+1)//12\n",
    "            for j in range(10):\n",
    "                contact.append(sap[5:-8,3+j*h:(j+1)*h-5])\n",
    "            d[\"contact\"]=pred(modelnum,contact)\n",
    "    return d"
   ]
  },
  {
   "cell_type": "code",
   "execution_count": 61,
   "id": "e4da8b51",
   "metadata": {},
   "outputs": [],
   "source": [
    "def crop(path):\n",
    "    form =  cv2.imread(path)\n",
    "    result=cv2.imwrite(r'C:\\Users\\GREESHMANTH\\Desktop\\imagee4.jpg', form)\n",
    "    global res_final, lst\n",
    "    orig = form.copy()\n",
    "    ratio = form.shape[0] / form.shape[1]\n",
    "    rgb = cv2.cvtColor(form, cv2.COLOR_BGR2RGB)\n",
    "    result=cv2.imwrite(r'C:\\Users\\GREESHMANTH\\Desktop\\imagee5.jpg', rgb)\n",
    "    edged = cv2.Canny(rgb, 75, 200)\n",
    "    edged = cv2.GaussianBlur(edged, (9,9), 0)\n",
    "    edged = cv2.Canny(edged, 75, 200)\n",
    "    result=cv2.imwrite(r'C:\\Users\\GREESHMANTH\\Desktop\\imagee6.jpg', edged)\n",
    "    cnts = cv2.findContours(edged.copy(), cv2.RETR_LIST, cv2.CHAIN_APPROX_SIMPLE)\n",
    "    cnts = imutils.grab_contours(cnts)\n",
    "    cnts = sorted(cnts, key = cv2.contourArea, reverse = True)[:5]\n",
    "\n",
    "    # loop over the contours\n",
    "    for c in cnts:\n",
    "        # approximate the contour\n",
    "        peri = cv2.arcLength(c, True)\n",
    "        approx = cv2.approxPolyDP(c, 0.02 * peri, True)\n",
    "        # if our approximated contour has four points, then we\n",
    "        # can assume that we have found our screen\n",
    "        if len(approx) == 4:\n",
    "            screenCnt = approx\n",
    "            break\n",
    "\n",
    "    # show the contour (outline) of the piece of paper\n",
    "    cv2.drawContours(form, [screenCnt], -1, (0, 255, 0), 2)\n",
    "    result=cv2.imwrite(r'C:\\Users\\GREESHMANTH\\Desktop\\imagee7.jpg', form)\n",
    "    warped = four_point_transform(orig, screenCnt.reshape(4, 2) * 1)\n",
    "    result=cv2.imwrite(r'C:\\Users\\GREESHMANTH\\Desktop\\imagee8.jpg', warped)\n",
    "#     convert the warped image to grayscale, then threshold itto give it that 'black and white' paper effect\n",
    "    warped = cv2.cvtColor(warped, cv2.COLOR_BGR2GRAY)\n",
    "    result=cv2.imwrite(r'C:\\Users\\GREESHMANTH\\Desktop\\imagee9.jpg', warped)\n",
    "#     T = threshold_local(warped, 11, offset = 10, method = \"gaussian\")\n",
    "#     warped = (warped > T).astype(\"uint8\") * 255\n",
    "    warped=cv2.resize(warped, (1514,2097),interpolation=cv2.INTER_CUBIC)\n",
    "    \n",
    "    img = warped.copy()\n",
    "    thresh_inv = cv2.threshold(img, 0, 255, cv2.THRESH_BINARY_INV+cv2.THRESH_OTSU)[1]\n",
    "    # Blur the image\n",
    "    blur = cv2.GaussianBlur(thresh_inv,(1,1),0)\n",
    "    thresh = cv2.threshold(blur, 0, 255, cv2.THRESH_BINARY+cv2.THRESH_OTSU)[1]\n",
    "#     result=cv2.imwrite(r'C:\\Users\\GREESHMANTH\\Desktop\\image.jpg', thresh)\n",
    "    contours = cv2.findContours(thresh, cv2.RETR_EXTERNAL, cv2.CHAIN_APPROX_SIMPLE)[0]\n",
    "#     result=cv2.imwrite(r'C:\\Users\\GREESHMANTH\\Desktop\\imagee9.jpg', thresh)\n",
    "    mask = np.ones(img.shape[:2], dtype=\"uint8\") * 255\n",
    "    lst=[]\n",
    "    cv2.imshow(\"window_name\", img)\n",
    "    cv2.waitKey(0)\n",
    "    cv2.destroyAllWindows()\n",
    "    for c in contours:\n",
    "        # get the bounding rect\n",
    "        x, y, w, h = cv2.boundingRect(c)\n",
    "        if w*h>1200 and h>25 and h<100 and w>30 and w<1200 and (abs(h-w)>25) and y>120 and x>250  and (x+w)<1550:\n",
    "            lst.append([x,y,w,h])\n",
    "            cv2.rectangle(mask, (x, y), (x+w, y+h), (0, 0, 255), -1)\n",
    "    res_final = cv2.bitwise_and(img, img, mask=cv2.bitwise_not(mask))\n",
    "    result=cv2.imwrite(r'C:\\Users\\GREESHMANTH\\Desktop\\imagee10.jpg', res_final)\n",
    "    cv2.imshow(\"window_name\", img)\n",
    "    cv2.waitKey(0)\n",
    "    cv2.destroyAllWindows()\n",
    "    d=finalstep()\n",
    "    excel(d)"
   ]
  },
  {
   "cell_type": "code",
   "execution_count": 16,
   "id": "c81d78e1",
   "metadata": {},
   "outputs": [],
   "source": [
    "def uploadFiles():\n",
    "    #print(file_path.name)\n",
    "    pb1 = Progressbar(\n",
    "        ws,\n",
    "        orient=HORIZONTAL, \n",
    "        length=300, \n",
    "        mode='determinate'\n",
    "        )\n",
    "    pb1.place(x=300,y=110)\n",
    "    for i in range(5):\n",
    "        ws.update_idletasks()\n",
    "        pb1['value'] += 20\n",
    "    pb1.destroy()\n",
    "    Label(ws, text='File Uploaded Successfully!', foreground='green').place(x=300,y=110)\n",
    "    crop(file_path.name)\n",
    "    Label(ws, text='Excel Sheet has Updated Succesfully ', foreground='green').place(x=300,y=140)\n"
   ]
  },
  {
   "cell_type": "code",
   "execution_count": 17,
   "id": "1d5d24fe",
   "metadata": {},
   "outputs": [],
   "source": [
    "def open_file():\n",
    "    global file_path\n",
    "    file_path = askopenfile(mode='r', filetypes=[('Image Files', '*jpg')])\n",
    "    if file_path is not None:\n",
    "        pass"
   ]
  },
  {
   "cell_type": "code",
   "execution_count": 62,
   "id": "39d1824a",
   "metadata": {},
   "outputs": [
    {
     "name": "stderr",
     "output_type": "stream",
     "text": [
      "Exception in Tkinter callback\n",
      "Traceback (most recent call last):\n",
      "  File \"C:\\Users\\GREESHMANTH\\anaconda3\\lib\\tkinter\\__init__.py\", line 1892, in __call__\n",
      "    return self.func(*args)\n",
      "  File \"C:\\Users\\GREESHMANTH\\AppData\\Local\\Temp/ipykernel_2080/2452583228.py\", line 15, in uploadFiles\n",
      "    crop(file_path.name)\n",
      "  File \"C:\\Users\\GREESHMANTH\\AppData\\Local\\Temp/ipykernel_2080/4213946994.py\", line 64, in crop\n",
      "    d=finalstep()\n",
      "  File \"C:\\Users\\GREESHMANTH\\AppData\\Local\\Temp/ipykernel_2080/1074337140.py\", line 16, in finalstep\n",
      "    d[\"date\"]=pred(modelnum,date)\n",
      "NameError: name 'pred' is not defined\n"
     ]
    }
   ],
   "source": [
    "def main(): \n",
    "    global ws\n",
    "    ws = Tk()\n",
    "    ws.title('TextTractor')\n",
    "    ws.geometry('800x300') \n",
    "    file_path=\"\"\n",
    "    adhar = Label(\n",
    "        ws, \n",
    "        text='Upload Aadhar Document  '\n",
    "        )\n",
    "    adhar.place(x=300,y=50)\n",
    "    adharbtn = Button(\n",
    "        ws, \n",
    "        text ='Choose File', \n",
    "        command = lambda:open_file()\n",
    "        ) \n",
    "    adharbtn.place(x=450,y=50)\n",
    "    \n",
    "    upld = Button(\n",
    "        text='Upload Files', \n",
    "        command=uploadFiles\n",
    "        )\n",
    "    upld.place(x=300,y=80)\n",
    "    ws.mainloop()\n",
    "main()"
   ]
  },
  {
   "cell_type": "code",
   "execution_count": 28,
   "id": "e491b5ed",
   "metadata": {},
   "outputs": [
    {
     "data": {
      "text/plain": [
       "<matplotlib.image.AxesImage at 0x23c1dfb1ee0>"
      ]
     },
     "execution_count": 28,
     "metadata": {},
     "output_type": "execute_result"
    },
    {
     "data": {
      "image/png": "[encoded data removed]",
      "text/plain": [
       "<Figure size 432x288 with 1 Axes>"
      ]
     },
     "metadata": {
      "needs_background": "light"
     },
     "output_type": "display_data"
    }
   ],
   "source": [
    "plt.imshow(res_final[315:360,350:1000])"
   ]
  },
  {
   "cell_type": "code",
   "execution_count": 47,
   "id": "ab9ab3a5",
   "metadata": {},
   "outputs": [
    {
     "name": "stdout",
     "output_type": "stream",
     "text": [
      "{}\n",
      "[]\n"
     ]
    }
   ],
   "source": [
    "print(d)\n",
    "print(lst)"
   ]
  },
  {
   "cell_type": "code",
   "execution_count": null,
   "id": "749fce3b",
   "metadata": {},
   "outputs": [],
   "source": []
  }
 ],
 "metadata": {
  "kernelspec": {
   "display_name": "Python 3 (ipykernel)",
   "language": "python",
   "name": "python3"
  },
  "language_info": {
   "codemirror_mode": {
    "name": "ipython",
    "version": 3
   },
   "file_extension": ".py",
   "mimetype": "text/x-python",
   "name": "python",
   "nbconvert_exporter": "python",
   "pygments_lexer": "ipython3",
   "version": "3.9.7"
  }
 },
 "nbformat": 4,
 "nbformat_minor": 5
}
